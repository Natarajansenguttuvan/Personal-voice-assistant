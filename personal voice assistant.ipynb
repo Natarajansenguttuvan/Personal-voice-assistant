{
 "cells": [
  {
   "cell_type": "code",
   "execution_count": 2,
   "metadata": {},
   "outputs": [],
   "source": [
    "import speech_recognition as sr\n",
    "import pyttsx3 as p\n",
    "import datetime\n",
    "import wikipedia\n",
    "import webbrowser\n",
    "import os\n",
    "import time\n",
    "import subprocess\n",
    "from ecapture import ecapture as ec\n",
    "import wolframalpha\n",
    "import json\n",
    "import requests"
   ]
  },
  {
   "cell_type": "code",
   "execution_count": 3,
   "metadata": {},
   "outputs": [],
   "source": [
    "dot=p.init()"
   ]
  },
  {
   "cell_type": "code",
   "execution_count": 7,
   "metadata": {},
   "outputs": [],
   "source": [
    "voices=dot.getProperty('voices')\n",
    "dot.setProperty('voice',voices[1].id)"
   ]
  },
  {
   "cell_type": "code",
   "execution_count": 8,
   "metadata": {},
   "outputs": [],
   "source": [
    "rate=dot.getProperty(\"rate\")\n",
    "dot.setProperty('rate',140)"
   ]
  },
  {
   "cell_type": "code",
   "execution_count": 10,
   "metadata": {},
   "outputs": [],
   "source": [
    "dot.say(\"hi anmol\")"
   ]
  },
  {
   "cell_type": "code",
   "execution_count": null,
   "metadata": {},
   "outputs": [],
   "source": []
  },
  {
   "cell_type": "code",
   "execution_count": 14,
   "metadata": {},
   "outputs": [],
   "source": [
    "dot.runAndWait()"
   ]
  },
  {
   "cell_type": "code",
   "execution_count": 15,
   "metadata": {},
   "outputs": [],
   "source": [
    "def speak(text):\n",
    "    dot.say(text)\n",
    "    dot.runAndWait()"
   ]
  },
  {
   "cell_type": "code",
   "execution_count": 16,
   "metadata": {},
   "outputs": [],
   "source": [
    "def wishMe():\n",
    "    hour=datetime.datetime.now().hour\n",
    "    if hour>=0 and hour<12:\n",
    "        speak(\"Hello,Good Morning\")\n",
    "        print(\"Hello,Good Morning\")\n",
    "    elif hour>=12 and hour<18:\n",
    "        speak(\"Hello,Good Afternoon\")\n",
    "        print(\"Hello,Good Afternoon\")\n",
    "    else:\n",
    "        speak(\"Hello,Good Evening\")\n",
    "        print(\"Hello,Good Evening\")"
   ]
  },
  {
   "cell_type": "code",
   "execution_count": 17,
   "metadata": {},
   "outputs": [],
   "source": [
    "def takeCommand():\n",
    "    r=sr.Recognizer()\n",
    "    with sr.Microphone() as source:\n",
    "        print(\"Listening...\")\n",
    "        audio=r.listen(source)\n",
    "\n",
    "        try:\n",
    "            statement=r.recognize_google(audio,language='tamil-in')\n",
    "            print(f\" Dot:{statement}\\n\")\n",
    "\n",
    "        except Exception as e:\n",
    "            speak(\"Pardon me, please say that again\")\n",
    "            return \"None\"\n",
    "        return statement"
   ]
  },
  {
   "cell_type": "code",
   "execution_count": 18,
   "metadata": {},
   "outputs": [
    {
     "name": "stdout",
     "output_type": "stream",
     "text": [
      "Hello,Good Evening\n"
     ]
    }
   ],
   "source": [
    "wishMe()"
   ]
  },
  {
   "cell_type": "code",
   "execution_count": null,
   "metadata": {},
   "outputs": [
    {
     "name": "stdout",
     "output_type": "stream",
     "text": [
      "Listening...\n",
      " Dot:hi Jesse what's time now\n",
      "\n",
      "Listening...\n",
      " Dot:Izzy tell me one,\n",
      "\n",
      "Listening...\n",
      " Dot:how are you\n",
      "\n",
      "Listening...\n",
      "Listening...\n",
      "Listening...\n",
      "Listening...\n",
      " Dot:dizzy by\n",
      "\n",
      "Listening...\n"
     ]
    }
   ],
   "source": [
    "if __name__=='__main__':\n",
    "\n",
    "\n",
    "    while True:\n",
    "        speak(\"i am your assistant jessy Tell me how can I help you \")\n",
    "        statement = takeCommand().lower()\n",
    "        if statement==0:\n",
    "            continue\n",
    "\n",
    "        if \" bye\" in statement or \"ok bye\" in statement:\n",
    "            speak('ok bye dot')\n",
    "            print('ok bye dot')\n",
    "            break\n",
    "       \n",
    "        if 'wikipedia' in statement:\n",
    "            speak('Searching Wikipedia...')\n",
    "            statement =statement.replace(\"wikipedia\", \"\")\n",
    "            results = wikipedia.summary(statement, sentences=3)\n",
    "            speak(\"According to Wikipedia\")\n",
    "            print(results)\n",
    "            speak(results)\n",
    "\n",
    "        elif 'open youtube' in statement:\n",
    "            webbrowser.open_new_tab(\"https://www.youtube.com\")\n",
    "            speak(\"youtube is open now\")\n",
    "            time.sleep(5)\n",
    "\n",
    "        elif 'open google' in statement:\n",
    "            webbrowser.open_new_tab(\"https://www.google.com\")\n",
    "            speak(\"Google chrome is open now\")\n",
    "            time.sleep(5)\n",
    "\n",
    "        elif 'open gmail' in statement:\n",
    "            webbrowser.open_new_tab(\"gmail.com\")\n",
    "            speak(\"Google Mail open now\")\n",
    "            time.sleep(5)\n",
    "\n",
    "        elif \"weather\" in statement:\n",
    "            api_key=\"8ef61edcf1c576d65d836254e11ea420\"\n",
    "            base_url=\"https://api.openweathermap.org/data/2.5/weather?\"\n",
    "            speak(\"whats the city name\")\n",
    "            city_name=takeCommand()\n",
    "            complete_url=base_url+\"appid=\"+api_key+\"&q=\"+city_name\n",
    "            response = requests.get(complete_url)\n",
    "            x=response.json()\n",
    "            if x[\"cod\"]!=\"404\":\n",
    "                y=x[\"main\"]\n",
    "                current_temperature = y[\"temp\"]\n",
    "                current_humidiy = y[\"humidity\"]\n",
    "                z = x[\"weather\"]\n",
    "                weather_description = z[0][\"description\"]\n",
    "                speak(\" Temperature in kelvin unit is \" +\n",
    "                      str(current_temperature) +\n",
    "                      \"\\n humidity in percentage is \" +\n",
    "                      str(current_humidiy) +\n",
    "                      \"\\n description  \" +\n",
    "                      str(weather_description))\n",
    "                print(\" Temperature in kelvin unit = \" +\n",
    "                      str(current_temperature) +\n",
    "                      \"\\n humidity (in percentage) = \" +\n",
    "                      str(current_humidiy) +\n",
    "                      \"\\n description = \" +\n",
    "                      str(weather_description))\n",
    "\n",
    "            else:\n",
    "                speak(\" City Not Found \")\n",
    "\n",
    "\n",
    "\n",
    "        elif 'time' in statement:\n",
    "            strTime=datetime.datetime.now().strftime(\"%H:%M:%S\")\n",
    "            speak(f\"the time is {strTime}\")\n",
    "            \n",
    "        elif 'How are you' in statement:\n",
    "            speak(\"I am feeling Good\") \n",
    "\n",
    "        elif 'who are you' in statement or 'what can you do' in statement:\n",
    "            speak('I Am Assistant of DOT and i can do everthing for DoT') \n",
    "            \n",
    "        elif 'say something for me' in statement: \n",
    "            speak('There’s always going to be that one guy that no matter the distance between you two, no matter how long you go without talking; you’ll never stop loving him.')\n",
    "        \n",
    "#joke\n",
    "        \n",
    "        elif \"comedy\" in statement or \"joke\" in statement:\n",
    "            speak('Wife Ungalukku pei pisasu mela nambikkai irukka nga Husband irukku di Wife pei ya paarthi rukeengala Husband paarthadhumattum illa adhu kooda kudumbam mae nadathi kittu irukkaen')\n",
    "\n",
    "        elif \"can you tell few things about dot\" in statement or \"who created you\" in statement or \"who discovered you\" in statement:\n",
    "            speak(\"dot is the inventor of me and he is smart and young talented guy\")\n",
    "            print(\"dot is the inventor of me and he is smart and young talented guy\")\n",
    "        elif \"open instagram\" in statement:\n",
    "            webbrowser.open_new_tab(\"https://www.instagram.com/accounts/login/\")\n",
    "            speak(\"Here is instagram\")\n",
    "\n",
    "        elif 'news' in statement:\n",
    "            news = webbrowser.open_new_tab(\"https://timesofindia.indiatimes.com/home/headlines\")\n",
    "            speak('Here are some headlines from the Times of India,Happy reading')\n",
    "            time.sleep(6)\n",
    "\n",
    "        elif \"camera\" in statement or \"take a photo\" in statement:\n",
    "            ec.capture(0,\"robo camera\",\"img.jpg\")\n",
    "\n",
    "        elif 'search'  in statement:\n",
    "            statement = statement.replace(\"search\", \"\")\n",
    "            webbrowser.open_new_tab(statement)\n",
    "            time.sleep(5)    \n",
    "            \n",
    "       \n",
    "            \n",
    "                \n",
    "       "
   ]
  },
  {
   "cell_type": "code",
   "execution_count": null,
   "metadata": {},
   "outputs": [],
   "source": [
    " "
   ]
  },
  {
   "cell_type": "code",
   "execution_count": null,
   "metadata": {},
   "outputs": [],
   "source": []
  },
  {
   "cell_type": "code",
   "execution_count": null,
   "metadata": {},
   "outputs": [],
   "source": []
  }
 ],
 "metadata": {
  "kernelspec": {
   "display_name": "Python 3",
   "language": "python",
   "name": "python3"
  },
  "language_info": {
   "codemirror_mode": {
    "name": "ipython",
    "version": 3
   },
   "file_extension": ".py",
   "mimetype": "text/x-python",
   "name": "python",
   "nbconvert_exporter": "python",
   "pygments_lexer": "ipython3",
   "version": "3.8.5"
  }
 },
 "nbformat": 4,
 "nbformat_minor": 4
}
